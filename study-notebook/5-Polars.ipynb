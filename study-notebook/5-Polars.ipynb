{
 "cells": [
  {
   "cell_type": "code",
   "execution_count": 124,
   "metadata": {},
   "outputs": [
    {
     "data": {
      "text/html": [
       "<div><style>\n",
       ".dataframe > thead > tr,\n",
       ".dataframe > tbody > tr {\n",
       "  text-align: right;\n",
       "  white-space: pre-wrap;\n",
       "}\n",
       "</style>\n",
       "<small>shape: (5, 13)</small><table border=\"1\" class=\"dataframe\"><thead><tr><th>price</th><th>area</th><th>bedrooms</th><th>bathrooms</th><th>stories</th><th>mainroad</th><th>guestroom</th><th>basement</th><th>hotwaterheating</th><th>airconditioning</th><th>parking</th><th>prefarea</th><th>furnishingstatus</th></tr><tr><td>i64</td><td>i64</td><td>i64</td><td>i64</td><td>i64</td><td>str</td><td>str</td><td>str</td><td>str</td><td>str</td><td>i64</td><td>str</td><td>str</td></tr></thead><tbody><tr><td>13300000</td><td>7420</td><td>4</td><td>2</td><td>3</td><td>&quot;yes&quot;</td><td>&quot;no&quot;</td><td>&quot;no&quot;</td><td>&quot;no&quot;</td><td>&quot;yes&quot;</td><td>2</td><td>&quot;yes&quot;</td><td>&quot;furnished&quot;</td></tr><tr><td>12250000</td><td>8960</td><td>4</td><td>4</td><td>4</td><td>&quot;yes&quot;</td><td>&quot;no&quot;</td><td>&quot;no&quot;</td><td>&quot;no&quot;</td><td>&quot;yes&quot;</td><td>3</td><td>&quot;no&quot;</td><td>&quot;furnished&quot;</td></tr><tr><td>12250000</td><td>9960</td><td>3</td><td>2</td><td>2</td><td>&quot;yes&quot;</td><td>&quot;no&quot;</td><td>&quot;yes&quot;</td><td>&quot;no&quot;</td><td>&quot;no&quot;</td><td>2</td><td>&quot;yes&quot;</td><td>&quot;semi-furnished&quot;</td></tr><tr><td>12215000</td><td>7500</td><td>4</td><td>2</td><td>2</td><td>&quot;yes&quot;</td><td>&quot;no&quot;</td><td>&quot;yes&quot;</td><td>&quot;no&quot;</td><td>&quot;yes&quot;</td><td>3</td><td>&quot;yes&quot;</td><td>&quot;furnished&quot;</td></tr><tr><td>11410000</td><td>7420</td><td>4</td><td>1</td><td>2</td><td>&quot;yes&quot;</td><td>&quot;yes&quot;</td><td>&quot;yes&quot;</td><td>&quot;no&quot;</td><td>&quot;yes&quot;</td><td>2</td><td>&quot;no&quot;</td><td>&quot;furnished&quot;</td></tr></tbody></table></div>"
      ],
      "text/plain": [
       "shape: (5, 13)\n",
       "┌──────────┬──────┬──────────┬───────────┬───┬────────────────┬─────────┬──────────┬───────────────┐\n",
       "│ price    ┆ area ┆ bedrooms ┆ bathrooms ┆ … ┆ airconditionin ┆ parking ┆ prefarea ┆ furnishingsta │\n",
       "│ ---      ┆ ---  ┆ ---      ┆ ---       ┆   ┆ g              ┆ ---     ┆ ---      ┆ tus           │\n",
       "│ i64      ┆ i64  ┆ i64      ┆ i64       ┆   ┆ ---            ┆ i64     ┆ str      ┆ ---           │\n",
       "│          ┆      ┆          ┆           ┆   ┆ str            ┆         ┆          ┆ str           │\n",
       "╞══════════╪══════╪══════════╪═══════════╪═══╪════════════════╪═════════╪══════════╪═══════════════╡\n",
       "│ 13300000 ┆ 7420 ┆ 4        ┆ 2         ┆ … ┆ yes            ┆ 2       ┆ yes      ┆ furnished     │\n",
       "│ 12250000 ┆ 8960 ┆ 4        ┆ 4         ┆ … ┆ yes            ┆ 3       ┆ no       ┆ furnished     │\n",
       "│ 12250000 ┆ 9960 ┆ 3        ┆ 2         ┆ … ┆ no             ┆ 2       ┆ yes      ┆ semi-furnishe │\n",
       "│          ┆      ┆          ┆           ┆   ┆                ┆         ┆          ┆ d             │\n",
       "│ 12215000 ┆ 7500 ┆ 4        ┆ 2         ┆ … ┆ yes            ┆ 3       ┆ yes      ┆ furnished     │\n",
       "│ 11410000 ┆ 7420 ┆ 4        ┆ 1         ┆ … ┆ yes            ┆ 2       ┆ no       ┆ furnished     │\n",
       "└──────────┴──────┴──────────┴───────────┴───┴────────────────┴─────────┴──────────┴───────────────┘"
      ]
     },
     "execution_count": 124,
     "metadata": {},
     "output_type": "execute_result"
    }
   ],
   "source": [
    "import polars as pl\n",
    "\n",
    "DATASET_PATH = 'data/5-Housing.csv'\n",
    "\n",
    "df = pl.read_csv(DATASET_PATH)\n",
    "df.head()"
   ]
  },
  {
   "cell_type": "code",
   "execution_count": 125,
   "metadata": {},
   "outputs": [
    {
     "data": {
      "text/html": [
       "<div><style>\n",
       ".dataframe > thead > tr,\n",
       ".dataframe > tbody > tr {\n",
       "  text-align: right;\n",
       "  white-space: pre-wrap;\n",
       "}\n",
       "</style>\n",
       "<small>shape: (9, 14)</small><table border=\"1\" class=\"dataframe\"><thead><tr><th>statistic</th><th>price</th><th>area</th><th>bedrooms</th><th>bathrooms</th><th>stories</th><th>mainroad</th><th>guestroom</th><th>basement</th><th>hotwaterheating</th><th>airconditioning</th><th>parking</th><th>prefarea</th><th>furnishingstatus</th></tr><tr><td>str</td><td>f64</td><td>f64</td><td>f64</td><td>f64</td><td>f64</td><td>str</td><td>str</td><td>str</td><td>str</td><td>str</td><td>f64</td><td>str</td><td>str</td></tr></thead><tbody><tr><td>&quot;count&quot;</td><td>545.0</td><td>545.0</td><td>545.0</td><td>545.0</td><td>545.0</td><td>&quot;545&quot;</td><td>&quot;545&quot;</td><td>&quot;545&quot;</td><td>&quot;545&quot;</td><td>&quot;545&quot;</td><td>545.0</td><td>&quot;545&quot;</td><td>&quot;545&quot;</td></tr><tr><td>&quot;null_count&quot;</td><td>0.0</td><td>0.0</td><td>0.0</td><td>0.0</td><td>0.0</td><td>&quot;0&quot;</td><td>&quot;0&quot;</td><td>&quot;0&quot;</td><td>&quot;0&quot;</td><td>&quot;0&quot;</td><td>0.0</td><td>&quot;0&quot;</td><td>&quot;0&quot;</td></tr><tr><td>&quot;mean&quot;</td><td>4.7667e6</td><td>5150.541284</td><td>2.965138</td><td>1.286239</td><td>1.805505</td><td>null</td><td>null</td><td>null</td><td>null</td><td>null</td><td>0.693578</td><td>null</td><td>null</td></tr><tr><td>&quot;std&quot;</td><td>1.8704e6</td><td>2170.141023</td><td>0.738064</td><td>0.50247</td><td>0.867492</td><td>null</td><td>null</td><td>null</td><td>null</td><td>null</td><td>0.861586</td><td>null</td><td>null</td></tr><tr><td>&quot;min&quot;</td><td>1.75e6</td><td>1650.0</td><td>1.0</td><td>1.0</td><td>1.0</td><td>&quot;no&quot;</td><td>&quot;no&quot;</td><td>&quot;no&quot;</td><td>&quot;no&quot;</td><td>&quot;no&quot;</td><td>0.0</td><td>&quot;no&quot;</td><td>&quot;furnished&quot;</td></tr><tr><td>&quot;25%&quot;</td><td>3.43e6</td><td>3600.0</td><td>2.0</td><td>1.0</td><td>1.0</td><td>null</td><td>null</td><td>null</td><td>null</td><td>null</td><td>0.0</td><td>null</td><td>null</td></tr><tr><td>&quot;50%&quot;</td><td>4.34e6</td><td>4600.0</td><td>3.0</td><td>1.0</td><td>2.0</td><td>null</td><td>null</td><td>null</td><td>null</td><td>null</td><td>0.0</td><td>null</td><td>null</td></tr><tr><td>&quot;75%&quot;</td><td>5.74e6</td><td>6360.0</td><td>3.0</td><td>2.0</td><td>2.0</td><td>null</td><td>null</td><td>null</td><td>null</td><td>null</td><td>1.0</td><td>null</td><td>null</td></tr><tr><td>&quot;max&quot;</td><td>1.33e7</td><td>16200.0</td><td>6.0</td><td>4.0</td><td>4.0</td><td>&quot;yes&quot;</td><td>&quot;yes&quot;</td><td>&quot;yes&quot;</td><td>&quot;yes&quot;</td><td>&quot;yes&quot;</td><td>3.0</td><td>&quot;yes&quot;</td><td>&quot;unfurnished&quot;</td></tr></tbody></table></div>"
      ],
      "text/plain": [
       "shape: (9, 14)\n",
       "┌────────────┬──────────┬────────────┬──────────┬───┬────────────┬──────────┬──────────┬───────────┐\n",
       "│ statistic  ┆ price    ┆ area       ┆ bedrooms ┆ … ┆ airconditi ┆ parking  ┆ prefarea ┆ furnishin │\n",
       "│ ---        ┆ ---      ┆ ---        ┆ ---      ┆   ┆ oning      ┆ ---      ┆ ---      ┆ gstatus   │\n",
       "│ str        ┆ f64      ┆ f64        ┆ f64      ┆   ┆ ---        ┆ f64      ┆ str      ┆ ---       │\n",
       "│            ┆          ┆            ┆          ┆   ┆ str        ┆          ┆          ┆ str       │\n",
       "╞════════════╪══════════╪════════════╪══════════╪═══╪════════════╪══════════╪══════════╪═══════════╡\n",
       "│ count      ┆ 545.0    ┆ 545.0      ┆ 545.0    ┆ … ┆ 545        ┆ 545.0    ┆ 545      ┆ 545       │\n",
       "│ null_count ┆ 0.0      ┆ 0.0        ┆ 0.0      ┆ … ┆ 0          ┆ 0.0      ┆ 0        ┆ 0         │\n",
       "│ mean       ┆ 4.7667e6 ┆ 5150.54128 ┆ 2.965138 ┆ … ┆ null       ┆ 0.693578 ┆ null     ┆ null      │\n",
       "│            ┆          ┆ 4          ┆          ┆   ┆            ┆          ┆          ┆           │\n",
       "│ std        ┆ 1.8704e6 ┆ 2170.14102 ┆ 0.738064 ┆ … ┆ null       ┆ 0.861586 ┆ null     ┆ null      │\n",
       "│            ┆          ┆ 3          ┆          ┆   ┆            ┆          ┆          ┆           │\n",
       "│ min        ┆ 1.75e6   ┆ 1650.0     ┆ 1.0      ┆ … ┆ no         ┆ 0.0      ┆ no       ┆ furnished │\n",
       "│ 25%        ┆ 3.43e6   ┆ 3600.0     ┆ 2.0      ┆ … ┆ null       ┆ 0.0      ┆ null     ┆ null      │\n",
       "│ 50%        ┆ 4.34e6   ┆ 4600.0     ┆ 3.0      ┆ … ┆ null       ┆ 0.0      ┆ null     ┆ null      │\n",
       "│ 75%        ┆ 5.74e6   ┆ 6360.0     ┆ 3.0      ┆ … ┆ null       ┆ 1.0      ┆ null     ┆ null      │\n",
       "│ max        ┆ 1.33e7   ┆ 16200.0    ┆ 6.0      ┆ … ┆ yes        ┆ 3.0      ┆ yes      ┆ unfurnish │\n",
       "│            ┆          ┆            ┆          ┆   ┆            ┆          ┆          ┆ ed        │\n",
       "└────────────┴──────────┴────────────┴──────────┴───┴────────────┴──────────┴──────────┴───────────┘"
      ]
     },
     "execution_count": 125,
     "metadata": {},
     "output_type": "execute_result"
    }
   ],
   "source": [
    "df.describe()"
   ]
  },
  {
   "cell_type": "code",
   "execution_count": 126,
   "metadata": {},
   "outputs": [
    {
     "data": {
      "text/html": [
       "<div><style>\n",
       ".dataframe > thead > tr,\n",
       ".dataframe > tbody > tr {\n",
       "  text-align: right;\n",
       "  white-space: pre-wrap;\n",
       "}\n",
       "</style>\n",
       "<small>shape: (1, 13)</small><table border=\"1\" class=\"dataframe\"><thead><tr><th>price</th><th>area</th><th>bedrooms</th><th>bathrooms</th><th>stories</th><th>mainroad</th><th>guestroom</th><th>basement</th><th>hotwaterheating</th><th>airconditioning</th><th>parking</th><th>prefarea</th><th>furnishingstatus</th></tr><tr><td>u32</td><td>u32</td><td>u32</td><td>u32</td><td>u32</td><td>u32</td><td>u32</td><td>u32</td><td>u32</td><td>u32</td><td>u32</td><td>u32</td><td>u32</td></tr></thead><tbody><tr><td>0</td><td>0</td><td>0</td><td>0</td><td>0</td><td>0</td><td>0</td><td>0</td><td>0</td><td>0</td><td>0</td><td>0</td><td>0</td></tr></tbody></table></div>"
      ],
      "text/plain": [
       "shape: (1, 13)\n",
       "┌───────┬──────┬──────────┬───────────┬───┬─────────────────┬─────────┬──────────┬─────────────────┐\n",
       "│ price ┆ area ┆ bedrooms ┆ bathrooms ┆ … ┆ airconditioning ┆ parking ┆ prefarea ┆ furnishingstatu │\n",
       "│ ---   ┆ ---  ┆ ---      ┆ ---       ┆   ┆ ---             ┆ ---     ┆ ---      ┆ s               │\n",
       "│ u32   ┆ u32  ┆ u32      ┆ u32       ┆   ┆ u32             ┆ u32     ┆ u32      ┆ ---             │\n",
       "│       ┆      ┆          ┆           ┆   ┆                 ┆         ┆          ┆ u32             │\n",
       "╞═══════╪══════╪══════════╪═══════════╪═══╪═════════════════╪═════════╪══════════╪═════════════════╡\n",
       "│ 0     ┆ 0    ┆ 0        ┆ 0         ┆ … ┆ 0               ┆ 0       ┆ 0        ┆ 0               │\n",
       "└───────┴──────┴──────────┴───────────┴───┴─────────────────┴─────────┴──────────┴─────────────────┘"
      ]
     },
     "execution_count": 126,
     "metadata": {},
     "output_type": "execute_result"
    }
   ],
   "source": [
    "df.null_count()"
   ]
  },
  {
   "cell_type": "markdown",
   "metadata": {},
   "source": [
    "## **Creation**"
   ]
  },
  {
   "cell_type": "code",
   "execution_count": 127,
   "metadata": {},
   "outputs": [
    {
     "data": {
      "text/html": [
       "<div><style>\n",
       ".dataframe > thead > tr,\n",
       ".dataframe > tbody > tr {\n",
       "  text-align: right;\n",
       "  white-space: pre-wrap;\n",
       "}\n",
       "</style>\n",
       "<small>shape: (5, 14)</small><table border=\"1\" class=\"dataframe\"><thead><tr><th>price</th><th>area</th><th>bedrooms</th><th>bathrooms</th><th>stories</th><th>mainroad</th><th>guestroom</th><th>basement</th><th>hotwaterheating</th><th>airconditioning</th><th>parking</th><th>prefarea</th><th>furnishingstatus</th><th>temp_col</th></tr><tr><td>i64</td><td>i64</td><td>i64</td><td>i64</td><td>i64</td><td>str</td><td>str</td><td>str</td><td>str</td><td>str</td><td>i64</td><td>str</td><td>str</td><td>i32</td></tr></thead><tbody><tr><td>13300000</td><td>7420</td><td>4</td><td>2</td><td>3</td><td>&quot;yes&quot;</td><td>&quot;no&quot;</td><td>&quot;no&quot;</td><td>&quot;no&quot;</td><td>&quot;yes&quot;</td><td>2</td><td>&quot;yes&quot;</td><td>&quot;furnished&quot;</td><td>0</td></tr><tr><td>12250000</td><td>8960</td><td>4</td><td>4</td><td>4</td><td>&quot;yes&quot;</td><td>&quot;no&quot;</td><td>&quot;no&quot;</td><td>&quot;no&quot;</td><td>&quot;yes&quot;</td><td>3</td><td>&quot;no&quot;</td><td>&quot;furnished&quot;</td><td>0</td></tr><tr><td>12250000</td><td>9960</td><td>3</td><td>2</td><td>2</td><td>&quot;yes&quot;</td><td>&quot;no&quot;</td><td>&quot;yes&quot;</td><td>&quot;no&quot;</td><td>&quot;no&quot;</td><td>2</td><td>&quot;yes&quot;</td><td>&quot;semi-furnished&quot;</td><td>0</td></tr><tr><td>12215000</td><td>7500</td><td>4</td><td>2</td><td>2</td><td>&quot;yes&quot;</td><td>&quot;no&quot;</td><td>&quot;yes&quot;</td><td>&quot;no&quot;</td><td>&quot;yes&quot;</td><td>3</td><td>&quot;yes&quot;</td><td>&quot;furnished&quot;</td><td>0</td></tr><tr><td>11410000</td><td>7420</td><td>4</td><td>1</td><td>2</td><td>&quot;yes&quot;</td><td>&quot;yes&quot;</td><td>&quot;yes&quot;</td><td>&quot;no&quot;</td><td>&quot;yes&quot;</td><td>2</td><td>&quot;no&quot;</td><td>&quot;furnished&quot;</td><td>0</td></tr></tbody></table></div>"
      ],
      "text/plain": [
       "shape: (5, 14)\n",
       "┌──────────┬──────┬──────────┬───────────┬───┬─────────┬──────────┬──────────────────┬──────────┐\n",
       "│ price    ┆ area ┆ bedrooms ┆ bathrooms ┆ … ┆ parking ┆ prefarea ┆ furnishingstatus ┆ temp_col │\n",
       "│ ---      ┆ ---  ┆ ---      ┆ ---       ┆   ┆ ---     ┆ ---      ┆ ---              ┆ ---      │\n",
       "│ i64      ┆ i64  ┆ i64      ┆ i64       ┆   ┆ i64     ┆ str      ┆ str              ┆ i32      │\n",
       "╞══════════╪══════╪══════════╪═══════════╪═══╪═════════╪══════════╪══════════════════╪══════════╡\n",
       "│ 13300000 ┆ 7420 ┆ 4        ┆ 2         ┆ … ┆ 2       ┆ yes      ┆ furnished        ┆ 0        │\n",
       "│ 12250000 ┆ 8960 ┆ 4        ┆ 4         ┆ … ┆ 3       ┆ no       ┆ furnished        ┆ 0        │\n",
       "│ 12250000 ┆ 9960 ┆ 3        ┆ 2         ┆ … ┆ 2       ┆ yes      ┆ semi-furnished   ┆ 0        │\n",
       "│ 12215000 ┆ 7500 ┆ 4        ┆ 2         ┆ … ┆ 3       ┆ yes      ┆ furnished        ┆ 0        │\n",
       "│ 11410000 ┆ 7420 ┆ 4        ┆ 1         ┆ … ┆ 2       ┆ no       ┆ furnished        ┆ 0        │\n",
       "└──────────┴──────┴──────────┴───────────┴───┴─────────┴──────────┴──────────────────┴──────────┘"
      ]
     },
     "execution_count": 127,
     "metadata": {},
     "output_type": "execute_result"
    }
   ],
   "source": [
    "df = df.with_columns(\n",
    "    pl.lit(0).alias('temp_col')\n",
    ")\n",
    "df.head()"
   ]
  },
  {
   "cell_type": "code",
   "execution_count": 128,
   "metadata": {},
   "outputs": [
    {
     "data": {
      "text/html": [
       "<div><style>\n",
       ".dataframe > thead > tr,\n",
       ".dataframe > tbody > tr {\n",
       "  text-align: right;\n",
       "  white-space: pre-wrap;\n",
       "}\n",
       "</style>\n",
       "<small>shape: (5, 15)</small><table border=\"1\" class=\"dataframe\"><thead><tr><th>price</th><th>area</th><th>bedrooms</th><th>bathrooms</th><th>stories</th><th>mainroad</th><th>guestroom</th><th>basement</th><th>hotwaterheating</th><th>airconditioning</th><th>parking</th><th>prefarea</th><th>furnishingstatus</th><th>temp_col</th><th>new_price</th></tr><tr><td>i64</td><td>i64</td><td>i64</td><td>i64</td><td>i64</td><td>str</td><td>str</td><td>str</td><td>str</td><td>str</td><td>i64</td><td>str</td><td>str</td><td>i32</td><td>i64</td></tr></thead><tbody><tr><td>13300000</td><td>7420</td><td>4</td><td>2</td><td>3</td><td>&quot;yes&quot;</td><td>&quot;no&quot;</td><td>&quot;no&quot;</td><td>&quot;no&quot;</td><td>&quot;yes&quot;</td><td>2</td><td>&quot;yes&quot;</td><td>&quot;furnished&quot;</td><td>0</td><td>13300000</td></tr><tr><td>12250000</td><td>8960</td><td>4</td><td>4</td><td>4</td><td>&quot;yes&quot;</td><td>&quot;no&quot;</td><td>&quot;no&quot;</td><td>&quot;no&quot;</td><td>&quot;yes&quot;</td><td>3</td><td>&quot;no&quot;</td><td>&quot;furnished&quot;</td><td>0</td><td>12250000</td></tr><tr><td>12250000</td><td>9960</td><td>3</td><td>2</td><td>2</td><td>&quot;yes&quot;</td><td>&quot;no&quot;</td><td>&quot;yes&quot;</td><td>&quot;no&quot;</td><td>&quot;no&quot;</td><td>2</td><td>&quot;yes&quot;</td><td>&quot;semi-furnished&quot;</td><td>0</td><td>12250000</td></tr><tr><td>12215000</td><td>7500</td><td>4</td><td>2</td><td>2</td><td>&quot;yes&quot;</td><td>&quot;no&quot;</td><td>&quot;yes&quot;</td><td>&quot;no&quot;</td><td>&quot;yes&quot;</td><td>3</td><td>&quot;yes&quot;</td><td>&quot;furnished&quot;</td><td>0</td><td>12215000</td></tr><tr><td>11410000</td><td>7420</td><td>4</td><td>1</td><td>2</td><td>&quot;yes&quot;</td><td>&quot;yes&quot;</td><td>&quot;yes&quot;</td><td>&quot;no&quot;</td><td>&quot;yes&quot;</td><td>2</td><td>&quot;no&quot;</td><td>&quot;furnished&quot;</td><td>0</td><td>11410000</td></tr></tbody></table></div>"
      ],
      "text/plain": [
       "shape: (5, 15)\n",
       "┌──────────┬──────┬──────────┬───────────┬───┬──────────┬──────────────────┬──────────┬───────────┐\n",
       "│ price    ┆ area ┆ bedrooms ┆ bathrooms ┆ … ┆ prefarea ┆ furnishingstatus ┆ temp_col ┆ new_price │\n",
       "│ ---      ┆ ---  ┆ ---      ┆ ---       ┆   ┆ ---      ┆ ---              ┆ ---      ┆ ---       │\n",
       "│ i64      ┆ i64  ┆ i64      ┆ i64       ┆   ┆ str      ┆ str              ┆ i32      ┆ i64       │\n",
       "╞══════════╪══════╪══════════╪═══════════╪═══╪══════════╪══════════════════╪══════════╪═══════════╡\n",
       "│ 13300000 ┆ 7420 ┆ 4        ┆ 2         ┆ … ┆ yes      ┆ furnished        ┆ 0        ┆ 13300000  │\n",
       "│ 12250000 ┆ 8960 ┆ 4        ┆ 4         ┆ … ┆ no       ┆ furnished        ┆ 0        ┆ 12250000  │\n",
       "│ 12250000 ┆ 9960 ┆ 3        ┆ 2         ┆ … ┆ yes      ┆ semi-furnished   ┆ 0        ┆ 12250000  │\n",
       "│ 12215000 ┆ 7500 ┆ 4        ┆ 2         ┆ … ┆ yes      ┆ furnished        ┆ 0        ┆ 12215000  │\n",
       "│ 11410000 ┆ 7420 ┆ 4        ┆ 1         ┆ … ┆ no       ┆ furnished        ┆ 0        ┆ 11410000  │\n",
       "└──────────┴──────┴──────────┴───────────┴───┴──────────┴──────────────────┴──────────┴───────────┘"
      ]
     },
     "execution_count": 128,
     "metadata": {},
     "output_type": "execute_result"
    }
   ],
   "source": [
    "df.with_columns(\n",
    "    pl.col('price').alias('new_price')\n",
    ").head()"
   ]
  },
  {
   "cell_type": "code",
   "execution_count": 129,
   "metadata": {},
   "outputs": [
    {
     "data": {
      "text/html": [
       "<div><style>\n",
       ".dataframe > thead > tr,\n",
       ".dataframe > tbody > tr {\n",
       "  text-align: right;\n",
       "  white-space: pre-wrap;\n",
       "}\n",
       "</style>\n",
       "<small>shape: (5, 12)</small><table border=\"1\" class=\"dataframe\"><thead><tr><th>price</th><th>area</th><th>bathrooms</th><th>stories</th><th>mainroad</th><th>guestroom</th><th>basement</th><th>hotwaterheating</th><th>airconditioning</th><th>parking</th><th>prefarea</th><th>furnishingstatus</th></tr><tr><td>i64</td><td>i64</td><td>i64</td><td>i64</td><td>str</td><td>str</td><td>str</td><td>str</td><td>str</td><td>i64</td><td>str</td><td>str</td></tr></thead><tbody><tr><td>13300000</td><td>7420</td><td>2</td><td>3</td><td>&quot;yes&quot;</td><td>&quot;no&quot;</td><td>&quot;no&quot;</td><td>&quot;no&quot;</td><td>&quot;yes&quot;</td><td>2</td><td>&quot;yes&quot;</td><td>&quot;furnished&quot;</td></tr><tr><td>12250000</td><td>8960</td><td>4</td><td>4</td><td>&quot;yes&quot;</td><td>&quot;no&quot;</td><td>&quot;no&quot;</td><td>&quot;no&quot;</td><td>&quot;yes&quot;</td><td>3</td><td>&quot;no&quot;</td><td>&quot;furnished&quot;</td></tr><tr><td>12250000</td><td>9960</td><td>2</td><td>2</td><td>&quot;yes&quot;</td><td>&quot;no&quot;</td><td>&quot;yes&quot;</td><td>&quot;no&quot;</td><td>&quot;no&quot;</td><td>2</td><td>&quot;yes&quot;</td><td>&quot;semi-furnished&quot;</td></tr><tr><td>12215000</td><td>7500</td><td>2</td><td>2</td><td>&quot;yes&quot;</td><td>&quot;no&quot;</td><td>&quot;yes&quot;</td><td>&quot;no&quot;</td><td>&quot;yes&quot;</td><td>3</td><td>&quot;yes&quot;</td><td>&quot;furnished&quot;</td></tr><tr><td>11410000</td><td>7420</td><td>1</td><td>2</td><td>&quot;yes&quot;</td><td>&quot;yes&quot;</td><td>&quot;yes&quot;</td><td>&quot;no&quot;</td><td>&quot;yes&quot;</td><td>2</td><td>&quot;no&quot;</td><td>&quot;furnished&quot;</td></tr></tbody></table></div>"
      ],
      "text/plain": [
       "shape: (5, 12)\n",
       "┌──────────┬──────┬───────────┬─────────┬───┬────────────────┬─────────┬──────────┬────────────────┐\n",
       "│ price    ┆ area ┆ bathrooms ┆ stories ┆ … ┆ airconditionin ┆ parking ┆ prefarea ┆ furnishingstat │\n",
       "│ ---      ┆ ---  ┆ ---       ┆ ---     ┆   ┆ g              ┆ ---     ┆ ---      ┆ us             │\n",
       "│ i64      ┆ i64  ┆ i64       ┆ i64     ┆   ┆ ---            ┆ i64     ┆ str      ┆ ---            │\n",
       "│          ┆      ┆           ┆         ┆   ┆ str            ┆         ┆          ┆ str            │\n",
       "╞══════════╪══════╪═══════════╪═════════╪═══╪════════════════╪═════════╪══════════╪════════════════╡\n",
       "│ 13300000 ┆ 7420 ┆ 2         ┆ 3       ┆ … ┆ yes            ┆ 2       ┆ yes      ┆ furnished      │\n",
       "│ 12250000 ┆ 8960 ┆ 4         ┆ 4       ┆ … ┆ yes            ┆ 3       ┆ no       ┆ furnished      │\n",
       "│ 12250000 ┆ 9960 ┆ 2         ┆ 2       ┆ … ┆ no             ┆ 2       ┆ yes      ┆ semi-furnished │\n",
       "│ 12215000 ┆ 7500 ┆ 2         ┆ 2       ┆ … ┆ yes            ┆ 3       ┆ yes      ┆ furnished      │\n",
       "│ 11410000 ┆ 7420 ┆ 1         ┆ 2       ┆ … ┆ yes            ┆ 2       ┆ no       ┆ furnished      │\n",
       "└──────────┴──────┴───────────┴─────────┴───┴────────────────┴─────────┴──────────┴────────────────┘"
      ]
     },
     "execution_count": 129,
     "metadata": {},
     "output_type": "execute_result"
    }
   ],
   "source": [
    "df.drop(['temp_col', 'bedrooms']).head()"
   ]
  },
  {
   "cell_type": "markdown",
   "metadata": {},
   "source": [
    "## **Data Manipulation**"
   ]
  },
  {
   "cell_type": "code",
   "execution_count": 130,
   "metadata": {},
   "outputs": [
    {
     "data": {
      "text/plain": [
       "(shape: (5, 2)\n",
       " ┌──────────┬──────┐\n",
       " │ price    ┆ area │\n",
       " │ ---      ┆ ---  │\n",
       " │ i64      ┆ i64  │\n",
       " ╞══════════╪══════╡\n",
       " │ 13300000 ┆ 7420 │\n",
       " │ 12250000 ┆ 8960 │\n",
       " │ 12250000 ┆ 9960 │\n",
       " │ 12215000 ┆ 7500 │\n",
       " │ 11410000 ┆ 7420 │\n",
       " └──────────┴──────┘,\n",
       " shape: (5, 2)\n",
       " ┌──────────┬──────┐\n",
       " │ price    ┆ area │\n",
       " │ ---      ┆ ---  │\n",
       " │ i64      ┆ i64  │\n",
       " ╞══════════╪══════╡\n",
       " │ 13300000 ┆ 7420 │\n",
       " │ 12250000 ┆ 8960 │\n",
       " │ 12250000 ┆ 9960 │\n",
       " │ 12215000 ┆ 7500 │\n",
       " │ 11410000 ┆ 7420 │\n",
       " └──────────┴──────┘)"
      ]
     },
     "execution_count": 130,
     "metadata": {},
     "output_type": "execute_result"
    }
   ],
   "source": [
    "df[['price', 'area']].head(5), df.select(['price', 'area']).head(5)"
   ]
  },
  {
   "cell_type": "code",
   "execution_count": 131,
   "metadata": {},
   "outputs": [
    {
     "data": {
      "text/html": [
       "<div><style>\n",
       ".dataframe > thead > tr,\n",
       ".dataframe > tbody > tr {\n",
       "  text-align: right;\n",
       "  white-space: pre-wrap;\n",
       "}\n",
       "</style>\n",
       "<small>shape: (2, 2)</small><table border=\"1\" class=\"dataframe\"><thead><tr><th>price</th><th>area</th></tr><tr><td>i64</td><td>i64</td></tr></thead><tbody><tr><td>13300000</td><td>7420</td></tr><tr><td>12250000</td><td>8960</td></tr></tbody></table></div>"
      ],
      "text/plain": [
       "shape: (2, 2)\n",
       "┌──────────┬──────┐\n",
       "│ price    ┆ area │\n",
       "│ ---      ┆ ---  │\n",
       "│ i64      ┆ i64  │\n",
       "╞══════════╪══════╡\n",
       "│ 13300000 ┆ 7420 │\n",
       "│ 12250000 ┆ 8960 │\n",
       "└──────────┴──────┘"
      ]
     },
     "execution_count": 131,
     "metadata": {},
     "output_type": "execute_result"
    }
   ],
   "source": [
    "df.slice(0, 2)[['price', 'area']]"
   ]
  },
  {
   "cell_type": "code",
   "execution_count": 132,
   "metadata": {},
   "outputs": [
    {
     "data": {
      "text/html": [
       "<div><style>\n",
       ".dataframe > thead > tr,\n",
       ".dataframe > tbody > tr {\n",
       "  text-align: right;\n",
       "  white-space: pre-wrap;\n",
       "}\n",
       "</style>\n",
       "<small>shape: (5, 2)</small><table border=\"1\" class=\"dataframe\"><thead><tr><th>price</th><th>area</th></tr><tr><td>i64</td><td>i64</td></tr></thead><tbody><tr><td>9800000</td><td>5750</td></tr><tr><td>8890000</td><td>4600</td></tr><tr><td>7962500</td><td>6000</td></tr><tr><td>7350000</td><td>6000</td></tr><tr><td>7350000</td><td>6000</td></tr></tbody></table></div>"
      ],
      "text/plain": [
       "shape: (5, 2)\n",
       "┌─────────┬──────┐\n",
       "│ price   ┆ area │\n",
       "│ ---     ┆ ---  │\n",
       "│ i64     ┆ i64  │\n",
       "╞═════════╪══════╡\n",
       "│ 9800000 ┆ 5750 │\n",
       "│ 8890000 ┆ 4600 │\n",
       "│ 7962500 ┆ 6000 │\n",
       "│ 7350000 ┆ 6000 │\n",
       "│ 7350000 ┆ 6000 │\n",
       "└─────────┴──────┘"
      ]
     },
     "execution_count": 132,
     "metadata": {},
     "output_type": "execute_result"
    }
   ],
   "source": [
    "df.filter(\n",
    "    (df['guestroom'] == 'yes') &\n",
    "    (df['basement'] == 'no')\n",
    ")[['price', 'area']].head(5)"
   ]
  },
  {
   "cell_type": "markdown",
   "metadata": {},
   "source": [
    "## **Advanced**"
   ]
  },
  {
   "cell_type": "code",
   "execution_count": 133,
   "metadata": {},
   "outputs": [
    {
     "data": {
      "text/html": [
       "<div><style>\n",
       ".dataframe > thead > tr,\n",
       ".dataframe > tbody > tr {\n",
       "  text-align: right;\n",
       "  white-space: pre-wrap;\n",
       "}\n",
       "</style>\n",
       "<small>shape: (545, 14)</small><table border=\"1\" class=\"dataframe\"><thead><tr><th>price</th><th>area</th><th>bedrooms</th><th>bathrooms</th><th>stories</th><th>mainroad</th><th>guestroom</th><th>basement</th><th>hotwaterheating</th><th>airconditioning</th><th>parking</th><th>prefarea</th><th>furnishingstatus</th><th>temp_col</th></tr><tr><td>str</td><td>i64</td><td>i64</td><td>i64</td><td>i64</td><td>str</td><td>str</td><td>str</td><td>str</td><td>str</td><td>i64</td><td>str</td><td>str</td><td>i32</td></tr></thead><tbody><tr><td>&quot;13300000$&quot;</td><td>7420</td><td>4</td><td>2</td><td>3</td><td>&quot;YES&quot;</td><td>&quot;no&quot;</td><td>&quot;no&quot;</td><td>&quot;no&quot;</td><td>&quot;yes&quot;</td><td>2</td><td>&quot;yes&quot;</td><td>&quot;furnished&quot;</td><td>0</td></tr><tr><td>&quot;12250000$&quot;</td><td>8960</td><td>4</td><td>4</td><td>4</td><td>&quot;YES&quot;</td><td>&quot;no&quot;</td><td>&quot;no&quot;</td><td>&quot;no&quot;</td><td>&quot;yes&quot;</td><td>3</td><td>&quot;no&quot;</td><td>&quot;furnished&quot;</td><td>0</td></tr><tr><td>&quot;12250000$&quot;</td><td>9960</td><td>3</td><td>2</td><td>2</td><td>&quot;YES&quot;</td><td>&quot;no&quot;</td><td>&quot;yes&quot;</td><td>&quot;no&quot;</td><td>&quot;no&quot;</td><td>2</td><td>&quot;yes&quot;</td><td>&quot;semi-furnished&quot;</td><td>0</td></tr><tr><td>&quot;12215000$&quot;</td><td>7500</td><td>4</td><td>2</td><td>2</td><td>&quot;YES&quot;</td><td>&quot;no&quot;</td><td>&quot;yes&quot;</td><td>&quot;no&quot;</td><td>&quot;yes&quot;</td><td>3</td><td>&quot;yes&quot;</td><td>&quot;furnished&quot;</td><td>0</td></tr><tr><td>&quot;11410000$&quot;</td><td>7420</td><td>4</td><td>1</td><td>2</td><td>&quot;YES&quot;</td><td>&quot;yes&quot;</td><td>&quot;yes&quot;</td><td>&quot;no&quot;</td><td>&quot;yes&quot;</td><td>2</td><td>&quot;no&quot;</td><td>&quot;furnished&quot;</td><td>0</td></tr><tr><td>&hellip;</td><td>&hellip;</td><td>&hellip;</td><td>&hellip;</td><td>&hellip;</td><td>&hellip;</td><td>&hellip;</td><td>&hellip;</td><td>&hellip;</td><td>&hellip;</td><td>&hellip;</td><td>&hellip;</td><td>&hellip;</td><td>&hellip;</td></tr><tr><td>&quot;1820000$&quot;</td><td>3000</td><td>2</td><td>1</td><td>1</td><td>&quot;YES&quot;</td><td>&quot;no&quot;</td><td>&quot;yes&quot;</td><td>&quot;no&quot;</td><td>&quot;no&quot;</td><td>2</td><td>&quot;no&quot;</td><td>&quot;unfurnished&quot;</td><td>0</td></tr><tr><td>&quot;1767150$&quot;</td><td>2400</td><td>3</td><td>1</td><td>1</td><td>&quot;NO&quot;</td><td>&quot;no&quot;</td><td>&quot;no&quot;</td><td>&quot;no&quot;</td><td>&quot;no&quot;</td><td>0</td><td>&quot;no&quot;</td><td>&quot;semi-furnished&quot;</td><td>0</td></tr><tr><td>&quot;1750000$&quot;</td><td>3620</td><td>2</td><td>1</td><td>1</td><td>&quot;YES&quot;</td><td>&quot;no&quot;</td><td>&quot;no&quot;</td><td>&quot;no&quot;</td><td>&quot;no&quot;</td><td>0</td><td>&quot;no&quot;</td><td>&quot;unfurnished&quot;</td><td>0</td></tr><tr><td>&quot;1750000$&quot;</td><td>2910</td><td>3</td><td>1</td><td>1</td><td>&quot;NO&quot;</td><td>&quot;no&quot;</td><td>&quot;no&quot;</td><td>&quot;no&quot;</td><td>&quot;no&quot;</td><td>0</td><td>&quot;no&quot;</td><td>&quot;furnished&quot;</td><td>0</td></tr><tr><td>&quot;1750000$&quot;</td><td>3850</td><td>3</td><td>1</td><td>2</td><td>&quot;YES&quot;</td><td>&quot;no&quot;</td><td>&quot;no&quot;</td><td>&quot;no&quot;</td><td>&quot;no&quot;</td><td>0</td><td>&quot;no&quot;</td><td>&quot;unfurnished&quot;</td><td>0</td></tr></tbody></table></div>"
      ],
      "text/plain": [
       "shape: (545, 14)\n",
       "┌───────────┬──────┬──────────┬───────────┬───┬─────────┬──────────┬──────────────────┬──────────┐\n",
       "│ price     ┆ area ┆ bedrooms ┆ bathrooms ┆ … ┆ parking ┆ prefarea ┆ furnishingstatus ┆ temp_col │\n",
       "│ ---       ┆ ---  ┆ ---      ┆ ---       ┆   ┆ ---     ┆ ---      ┆ ---              ┆ ---      │\n",
       "│ str       ┆ i64  ┆ i64      ┆ i64       ┆   ┆ i64     ┆ str      ┆ str              ┆ i32      │\n",
       "╞═══════════╪══════╪══════════╪═══════════╪═══╪═════════╪══════════╪══════════════════╪══════════╡\n",
       "│ 13300000$ ┆ 7420 ┆ 4        ┆ 2         ┆ … ┆ 2       ┆ yes      ┆ furnished        ┆ 0        │\n",
       "│ 12250000$ ┆ 8960 ┆ 4        ┆ 4         ┆ … ┆ 3       ┆ no       ┆ furnished        ┆ 0        │\n",
       "│ 12250000$ ┆ 9960 ┆ 3        ┆ 2         ┆ … ┆ 2       ┆ yes      ┆ semi-furnished   ┆ 0        │\n",
       "│ 12215000$ ┆ 7500 ┆ 4        ┆ 2         ┆ … ┆ 3       ┆ yes      ┆ furnished        ┆ 0        │\n",
       "│ 11410000$ ┆ 7420 ┆ 4        ┆ 1         ┆ … ┆ 2       ┆ no       ┆ furnished        ┆ 0        │\n",
       "│ …         ┆ …    ┆ …        ┆ …         ┆ … ┆ …       ┆ …        ┆ …                ┆ …        │\n",
       "│ 1820000$  ┆ 3000 ┆ 2        ┆ 1         ┆ … ┆ 2       ┆ no       ┆ unfurnished      ┆ 0        │\n",
       "│ 1767150$  ┆ 2400 ┆ 3        ┆ 1         ┆ … ┆ 0       ┆ no       ┆ semi-furnished   ┆ 0        │\n",
       "│ 1750000$  ┆ 3620 ┆ 2        ┆ 1         ┆ … ┆ 0       ┆ no       ┆ unfurnished      ┆ 0        │\n",
       "│ 1750000$  ┆ 2910 ┆ 3        ┆ 1         ┆ … ┆ 0       ┆ no       ┆ furnished        ┆ 0        │\n",
       "│ 1750000$  ┆ 3850 ┆ 3        ┆ 1         ┆ … ┆ 0       ┆ no       ┆ unfurnished      ┆ 0        │\n",
       "└───────────┴──────┴──────────┴───────────┴───┴─────────┴──────────┴──────────────────┴──────────┘"
      ]
     },
     "execution_count": 133,
     "metadata": {},
     "output_type": "execute_result"
    }
   ],
   "source": [
    "df = df.with_columns(\n",
    "    pl.col('mainroad').map_elements(lambda x: str.upper(x), return_dtype=pl.Utf8),\n",
    "    (pl.col('price').cast(pl.Utf8) + '$').alias('price')\n",
    ")\n",
    "df"
   ]
  },
  {
   "cell_type": "code",
   "execution_count": 134,
   "metadata": {},
   "outputs": [
    {
     "data": {
      "text/html": [
       "<div><style>\n",
       ".dataframe > thead > tr,\n",
       ".dataframe > tbody > tr {\n",
       "  text-align: right;\n",
       "  white-space: pre-wrap;\n",
       "}\n",
       "</style>\n",
       "<small>shape: (15, 5)</small><table border=\"1\" class=\"dataframe\"><thead><tr><th>bedrooms</th><th>bathrooms</th><th>Avg Area</th><th>Max Area</th><th>Min Area</th></tr><tr><td>i64</td><td>i64</td><td>f64</td><td>i64</td><td>i64</td></tr></thead><tbody><tr><td>4</td><td>2</td><td>5952.854167</td><td>12090</td><td>2145</td></tr><tr><td>4</td><td>1</td><td>5095.214286</td><td>11440</td><td>3000</td></tr><tr><td>4</td><td>4</td><td>8960.0</td><td>8960</td><td>8960</td></tr><tr><td>5</td><td>3</td><td>12390.0</td><td>16200</td><td>8580</td></tr><tr><td>4</td><td>3</td><td>5400.0</td><td>8580</td><td>2610</td></tr><tr><td>&hellip;</td><td>&hellip;</td><td>&hellip;</td><td>&hellip;</td><td>&hellip;</td></tr><tr><td>3</td><td>3</td><td>5097.5</td><td>7500</td><td>3300</td></tr><tr><td>3</td><td>2</td><td>5759.638889</td><td>10500</td><td>1950</td></tr><tr><td>5</td><td>2</td><td>5142.5</td><td>7950</td><td>2520</td></tr><tr><td>6</td><td>1</td><td>3600.0</td><td>3600</td><td>3600</td></tr><tr><td>6</td><td>2</td><td>4300.0</td><td>4300</td><td>4300</td></tr></tbody></table></div>"
      ],
      "text/plain": [
       "shape: (15, 5)\n",
       "┌──────────┬───────────┬─────────────┬──────────┬──────────┐\n",
       "│ bedrooms ┆ bathrooms ┆ Avg Area    ┆ Max Area ┆ Min Area │\n",
       "│ ---      ┆ ---       ┆ ---         ┆ ---      ┆ ---      │\n",
       "│ i64      ┆ i64       ┆ f64         ┆ i64      ┆ i64      │\n",
       "╞══════════╪═══════════╪═════════════╪══════════╪══════════╡\n",
       "│ 4        ┆ 2         ┆ 5952.854167 ┆ 12090    ┆ 2145     │\n",
       "│ 4        ┆ 1         ┆ 5095.214286 ┆ 11440    ┆ 3000     │\n",
       "│ 4        ┆ 4         ┆ 8960.0      ┆ 8960     ┆ 8960     │\n",
       "│ 5        ┆ 3         ┆ 12390.0     ┆ 16200    ┆ 8580     │\n",
       "│ 4        ┆ 3         ┆ 5400.0      ┆ 8580     ┆ 2610     │\n",
       "│ …        ┆ …         ┆ …           ┆ …        ┆ …        │\n",
       "│ 3        ┆ 3         ┆ 5097.5      ┆ 7500     ┆ 3300     │\n",
       "│ 3        ┆ 2         ┆ 5759.638889 ┆ 10500    ┆ 1950     │\n",
       "│ 5        ┆ 2         ┆ 5142.5      ┆ 7950     ┆ 2520     │\n",
       "│ 6        ┆ 1         ┆ 3600.0      ┆ 3600     ┆ 3600     │\n",
       "│ 6        ┆ 2         ┆ 4300.0      ┆ 4300     ┆ 4300     │\n",
       "└──────────┴───────────┴─────────────┴──────────┴──────────┘"
      ]
     },
     "execution_count": 134,
     "metadata": {},
     "output_type": "execute_result"
    }
   ],
   "source": [
    "df.group_by(['bedrooms', 'bathrooms']).agg(\n",
    "    pl.col('area').mean().alias('Avg Area'),\n",
    "    pl.col('area').max().alias('Max Area'),\n",
    "    pl.col('area').min().alias('Min Area')\n",
    ")"
   ]
  },
  {
   "cell_type": "code",
   "execution_count": 135,
   "metadata": {},
   "outputs": [
    {
     "data": {
      "text/html": [
       "<div><style>\n",
       ".dataframe > thead > tr,\n",
       ".dataframe > tbody > tr {\n",
       "  text-align: right;\n",
       "  white-space: pre-wrap;\n",
       "}\n",
       "</style>\n",
       "<small>shape: (15, 5)</small><table border=\"1\" class=\"dataframe\"><thead><tr><th>bedrooms</th><th>bathrooms</th><th>Avg Area</th><th>Max Area</th><th>Min Area</th></tr><tr><td>i64</td><td>i64</td><td>f64</td><td>i64</td><td>i64</td></tr></thead><tbody><tr><td>1</td><td>1</td><td>3710.0</td><td>3970</td><td>3450</td></tr><tr><td>2</td><td>1</td><td>4670.25</td><td>13200</td><td>1836</td></tr><tr><td>2</td><td>2</td><td>4092.0</td><td>6600</td><td>3150</td></tr><tr><td>3</td><td>1</td><td>5057.598214</td><td>15600</td><td>1650</td></tr><tr><td>3</td><td>2</td><td>5759.638889</td><td>10500</td><td>1950</td></tr><tr><td>&hellip;</td><td>&hellip;</td><td>&hellip;</td><td>&hellip;</td><td>&hellip;</td></tr><tr><td>5</td><td>1</td><td>4391.25</td><td>6840</td><td>1905</td></tr><tr><td>5</td><td>2</td><td>5142.5</td><td>7950</td><td>2520</td></tr><tr><td>5</td><td>3</td><td>12390.0</td><td>16200</td><td>8580</td></tr><tr><td>6</td><td>1</td><td>3600.0</td><td>3600</td><td>3600</td></tr><tr><td>6</td><td>2</td><td>4300.0</td><td>4300</td><td>4300</td></tr></tbody></table></div>"
      ],
      "text/plain": [
       "shape: (15, 5)\n",
       "┌──────────┬───────────┬─────────────┬──────────┬──────────┐\n",
       "│ bedrooms ┆ bathrooms ┆ Avg Area    ┆ Max Area ┆ Min Area │\n",
       "│ ---      ┆ ---       ┆ ---         ┆ ---      ┆ ---      │\n",
       "│ i64      ┆ i64       ┆ f64         ┆ i64      ┆ i64      │\n",
       "╞══════════╪═══════════╪═════════════╪══════════╪══════════╡\n",
       "│ 1        ┆ 1         ┆ 3710.0      ┆ 3970     ┆ 3450     │\n",
       "│ 2        ┆ 1         ┆ 4670.25     ┆ 13200    ┆ 1836     │\n",
       "│ 2        ┆ 2         ┆ 4092.0      ┆ 6600     ┆ 3150     │\n",
       "│ 3        ┆ 1         ┆ 5057.598214 ┆ 15600    ┆ 1650     │\n",
       "│ 3        ┆ 2         ┆ 5759.638889 ┆ 10500    ┆ 1950     │\n",
       "│ …        ┆ …         ┆ …           ┆ …        ┆ …        │\n",
       "│ 5        ┆ 1         ┆ 4391.25     ┆ 6840     ┆ 1905     │\n",
       "│ 5        ┆ 2         ┆ 5142.5      ┆ 7950     ┆ 2520     │\n",
       "│ 5        ┆ 3         ┆ 12390.0     ┆ 16200    ┆ 8580     │\n",
       "│ 6        ┆ 1         ┆ 3600.0      ┆ 3600     ┆ 3600     │\n",
       "│ 6        ┆ 2         ┆ 4300.0      ┆ 4300     ┆ 4300     │\n",
       "└──────────┴───────────┴─────────────┴──────────┴──────────┘"
      ]
     },
     "execution_count": 135,
     "metadata": {},
     "output_type": "execute_result"
    }
   ],
   "source": [
    "df.group_by(['bedrooms', 'bathrooms']).agg(\n",
    "    pl.col('area').mean().alias('Avg Area'),\n",
    "    pl.col('area').max().alias('Max Area'),\n",
    "    pl.col('area').min().alias('Min Area')\n",
    ").sort(['bedrooms', 'bathrooms', 'Avg Area'], descending=[False, False, True])"
   ]
  }
 ],
 "metadata": {
  "kernelspec": {
   "display_name": "Python 3",
   "language": "python",
   "name": "python3"
  },
  "language_info": {
   "codemirror_mode": {
    "name": "ipython",
    "version": 3
   },
   "file_extension": ".py",
   "mimetype": "text/x-python",
   "name": "python",
   "nbconvert_exporter": "python",
   "pygments_lexer": "ipython3",
   "version": "3.12.4"
  }
 },
 "nbformat": 4,
 "nbformat_minor": 2
}
